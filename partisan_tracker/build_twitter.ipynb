{
    "metadata": {
        "kernelspec": {
            "name": "python3",
            "display_name": "Python 3 (ipykernel)",
            "language": "python"
        },
        "language_info": {
            "name": "python",
            "version": "3.8.10",
            "mimetype": "text/x-python",
            "codemirror_mode": {
                "name": "ipython",
                "version": 3
            },
            "pygments_lexer": "ipython3",
            "nbconvert_exporter": "python",
            "file_extension": ".py"
        }
    },
    "nbformat_minor": 2,
    "nbformat": 4,
    "cells": [
        {
            "cell_type": "code",
            "source": [
                "import datetime\r\n",
                "import sqlite3 as sql \r\n",
                "import requests\r\n",
                "import re\r\n",
                "import nltk\r\n",
                "from nltk.sentiment.vader import SentimentIntensityAnalyzer\r\n",
                "import pandas as pd\r\n",
                "import numpy as np\r\n",
                "from sklearn.feature_extraction.text import TfidfVectorizer\r\n",
                "import json \r\n",
                "import networkx\r\n",
                "from config_new import config\r\n",
                "import time\r\n",
                "import random as rnd\r\n",
                ""
            ],
            "metadata": {
                "azdata_cell_guid": "814e6310-8b0f-45ca-8382-4f2616df9f15",
                "language": "python",
                "tags": []
            },
            "outputs": [],
            "execution_count": 3
        },
        {
            "cell_type": "code",
            "source": [
                "def init_users(con, headers):\r\n",
                "    base_handels = {'NRSC':'NRSC',\r\n",
                "        'DSCC':'DSCC',\r\n",
                "        'DCCC':'DCCC',\r\n",
                "        'NRCC':'NRCC',\r\n",
                "        'RNC' :'GOP',\r\n",
                "        'DNC':'DNC',\r\n",
                "        'Twitter Verified':'verified'}\r\n",
                "    base_handels = ','.join(base_handels.values())\r\n",
                "    BASE_URL_QUERY = f'https://api.twitter.com/2/users/by?usernames={base_handels}&user.fields=created_at&expansions=pinned_tweet_id&tweet.fields=author_id,created_at'\r\n",
                "    auth_response_QUERY = requests.get(BASE_URL_QUERY,  headers=headers)\r\n",
                "    auth_response_RESPONSE = json.loads(auth_response_QUERY.text)\r\n",
                "    cur = con.cursor()\r\n",
                "    cur.execute(\"\"\"CREATE TABLE IF NOT EXISTS twitter_base_users (user_id INTEGER, user_name TEXT, category TEXT)\r\n",
                "    \"\"\")\r\n",
                "    con.commit()\r\n",
                "    for i in auth_response_RESPONSE['data']:\r\n",
                "        cur.execute(f\"\"\"INSERT INTO twitter_base_users (user_id, user_name) VALUES ({i['id']},'{i['username']}')\"\"\")\r\n",
                "        con.commit()\r\n",
                "    groups = {'v':'verified', 'd':['DNC', 'dccc', 'dscc'], 'r':['NRSC', 'NRCC', 'GOP']}\r\n",
                "    for key, value in groups.items():\r\n",
                "        if isinstance(value,list):\r\n",
                "            value = \"','\".join([f'{i}' for i in value])\r\n",
                "        cur.execute(f\"\"\"UPDATE twitter_base_users SET category = '{key}' WHERE user_name IN ('{value}')\"\"\")\r\n",
                "        con.commit()\r\n",
                "\r\n",
                "def get_follows(base_id, con, headers, next_token=None):\r\n",
                "    cur = con.cursor()\r\n",
                "    cur.execute(\"\"\"CREATE TABLE IF NOT EXISTS twitter_base_users (user_id INTEGER, user_name TEXT, parent_id INTEGER)\r\n",
                "    \"\"\")\r\n",
                "    con.commit()\r\n",
                "    retry = True \r\n",
                "    while retry:   \r\n",
                "        if next_token:\r\n",
                "            BASE_URL_QUERY = f'https://api.twitter.com/2/users/{base_id}/following?user.fields=created_at&expansions=pinned_tweet_id&tweet.fields=created_at&max_results=1000&pagination_token={next_token}'\r\n",
                "        else:\r\n",
                "            BASE_URL_QUERY = f'https://api.twitter.com/2/users/{base_id}/following?user.fields=created_at&expansions=pinned_tweet_id&tweet.fields=created_at&max_results=1000'\r\n",
                "        auth_response_QUERY = requests.get(BASE_URL_QUERY,  headers=headers)\r\n",
                "        auth_response_RESPONSE = json.loads(auth_response_QUERY.text)\r\n",
                "        if auth_response_QUERY.status_code == 429:\r\n",
                "            time.sleep(900)\r\n",
                "            auth_response_QUERY = requests.get(BASE_URL_QUERY,  headers=headers)\r\n",
                "            auth_response_RESPONSE = json.loads(auth_response_QUERY.text)\r\n",
                "        if auth_response_RESPONSE['data']:\r\n",
                "            for i in auth_response_RESPONSE['data']:\r\n",
                "                cur.execute(f\"\"\"INSERT INTO twitter_users (user_id, user_name, parent_id) VALUES ({i['id']},'{i['username']}', {base_id})\"\"\")\r\n",
                "                con.commit()\r\n",
                "        if 'next_token' in auth_response_RESPONSE['meta'].keys():\r\n",
                "            get_follows(base_id, con, headers, auth_response_RESPONSE['meta']['next_token'])\r\n",
                "            retry = False\r\n",
                "        else:\r\n",
                "            retry = False\r\n",
                "\r\n",
                ""
            ],
            "metadata": {
                "language": "python",
                "azdata_cell_guid": "24bbe98e-e70e-427e-bea2-06569edef1c2",
                "tags": []
            },
            "outputs": [],
            "execution_count": 7
        },
        {
            "cell_type": "markdown",
            "source": [
                "#### Connection"
            ],
            "metadata": {
                "language": "python",
                "azdata_cell_guid": "76421a33-504d-4d1b-bf9d-9835b61e8ccc"
            },
            "attachments": {}
        },
        {
            "cell_type": "code",
            "source": [
                "bearertoken=config['bear_token']\r\n",
                "headers = {'Authorization': 'Bearer ' +\r\n",
                "       bearertoken, 'Content-Type': 'application/json'}\r\n",
                "con = sql.connect(config['database'])\r\n",
                "cur = con.cursor()\r\n",
                "cur.execute('''CREATE TABLE IF NOT EXISTS twitter_forgien_lang_user (lang TEXT, user_id INT)''')\r\n",
                "cur.execute('''CREATE TABLE IF NOT EXISTS twitter_tweet_to_user (tweet_id INT, user_id INT)''')\r\n",
                "cur.execute('''CREATE TABLE IF NOT EXISTS twitter_tweet (tweet_id INT, conersation_id INT, text TEXT, likes INT, retweets INT, replay INT, quote INT, created TEXT)''')\r\n",
                "cur.execute('''CREATE TABLE IF NOT EXISTS twitter_nea (tweet_id INT, text INT, entity TEXT)''')\r\n",
                "cur.execute('''CREATE TABLE IF NOT EXISTS twitter_tweet_elements (tweet_id INT, mention_id INT, url TEXT)''')\r\n",
                "cur.execute('''CREATE TABLE IF NOT EXISTS twitter_tweet_conText_entity (tweet_id INT, entity_id INT)''')\r\n",
                "cur.execute('''CREATE TABLE IF NOT EXISTS twitter_tweet_conText_domain (tweet_id INT, domain_id INT)''')\r\n",
                "cur.execute('''CREATE TABLE IF NOT EXISTS twitter_tweet_conText_def (id INT, name TEXT, description TEXT, type TEXT, PRIMARY KEY(id,type)) ''')\r\n",
                "con.commit()\r\n",
                ""
            ],
            "metadata": {
                "language": "python",
                "azdata_cell_guid": "a72a9cbf-904a-48f7-a3da-ad0ebae33307",
                "tags": []
            },
            "outputs": [],
            "execution_count": 5
        },
        {
            "cell_type": "markdown",
            "source": [
                "## Random Sampling\r\n",
                "### Straff"
            ],
            "metadata": {
                "language": "python",
                "azdata_cell_guid": "17b156dd-474d-4706-a915-308cb78212af"
            },
            "attachments": {}
        },
        {
            "cell_type": "code",
            "source": [
                "groups = pd.read_sql_query(\"SELECT category FROM twitter_base_users\",con)\r\n",
                "groups = list(set(groups['category'].tolist()))\r\n",
                "date = datetime.datetime.now() - datetime.timedelta(days=1)\r\n",
                "date = date.strftime(\"%Y-%m-%dT00:00:00Z\") \r\n",
                "for group in groups:\r\n",
                "    limit = 300\r\n",
                "    user_ids_list = pd.read_sql_query(f\"\"\"SELECT a.user_id\r\n",
                "                                         FROM twitter_users a\r\n",
                "                                         JOIN twitter_base_users b ON a.parent_id = b.user_id\r\n",
                "                                         WHERE b.category = '{group}'\r\n",
                "                                         ORDER BY RANDOM()\r\n",
                "                                         LIMIT {limit}\r\n",
                "                                         \"\"\",con)\r\n",
                "    sample_set = list(set(user_ids_list['user_id'].tolist()))\r\n",
                "    try:\r\n",
                "        for s_id in sample_set:\r\n",
                "            BASE_URL = f'https://api.twitter.com/2/users/{s_id}/tweets?max_results=100&start_time={date}&tweet.fields=id,author_id,context_annotations,conversation_id,created_at,entities,lang,public_metrics,text'\r\n",
                "            auth_response_QUERY = requests.get(BASE_URL,  headers=headers)\r\n",
                "            auth_response_RESPONSE = json.loads(auth_response_QUERY.text)\r\n",
                "            if auth_response_RESPONSE['meta']['result_count'] > 0:\r\n",
                "                if 'context_annotations' in list(auth_response_RESPONSE['data'][0].keys()):\r\n",
                "                    break\r\n",
                "    except:\r\n",
                "        continue\r\n",
                "    if 'context_annotations' in list(auth_response_RESPONSE['data'][0].keys()):\r\n",
                "        break"
            ],
            "metadata": {
                "language": "python",
                "azdata_cell_guid": "2609252f-3705-49ca-be37-a14854465c47",
                "tags": []
            },
            "outputs": [],
            "execution_count": 8
        },
        {
            "cell_type": "code",
            "source": [
                "if auth_response_RESPONSE['meta']['result_count'] > 0:\r\n",
                "    input_dict = {\r\n",
                "    'lang' : None,\r\n",
                "    'hashtags' : [],\r\n",
                "    'url' : [],\r\n",
                "    'title' : [],\r\n",
                "    'tweet_domain' : [],\r\n",
                "    'tweet_entity' : [],\r\n",
                "    'tweet_mentions' : [],\r\n",
                "    'conversation_id' : None,\r\n",
                "    'tweet_id' : auth_response_RESPONSE['data'][0]['id'],\r\n",
                "    'text' : auth_response_RESPONSE['data'][0]['text'].replace(\"'\",\"''\"),\r\n",
                "    'author_id' : auth_response_RESPONSE['data'][0]['author_id'],\r\n",
                "    'created_at' : auth_response_RESPONSE['data'][0]['created_at'],\r\n",
                "    'public_metrics': auth_response_RESPONSE['data'][0]['public_metrics'],\r\n",
                "    'nea' : []\r\n",
                "    }\r\n",
                "    if 'lang' in list(auth_response_RESPONSE['data'][0].keys()):\r\n",
                "        input_dict['lang'] = auth_response_RESPONSE['data'][0]['lang']\r\n",
                "        if input_dict['lang'] != 'en':\r\n",
                "            cur.execute(f\"DELETE FROM twitter_users WHERE user_id = {input_dict['author_id']}\")\r\n",
                "            cur.execute(f\"INSERT INTO twitter_forgien_lang_user (lang, user_id) VALUES ('{input_dict['lang']}', {input_dict['author_id']}) \")\r\n",
                "            con.commit()\r\n",
                "            #continue\r\n",
                "    if 'hashtags' in list(auth_response_RESPONSE['data'][0]['entities'].keys()):\r\n",
                "        for i in auth_response_RESPONSE['data'][0]['entities']['hashtags']:\r\n",
                "            input_dict['hashtags'].append(i['tag'])\r\n",
                "    if 'url' in list(auth_response_RESPONSE['data'][0]['entities'].keys()):\r\n",
                "        for i in auth_response_RESPONSE['data'][0]['entities']['urls']:\r\n",
                "            if 'unwound_url' in list(i.keys()):\r\n",
                "                input_dict['url'].append(i['unwound_url'])\r\n",
                "                input_dict['title'].append(i['title'])\r\n",
                "    if 'annotations' in list(auth_response_RESPONSE['data'][0]['entities'].keys()):\r\n",
                "        for i in auth_response_RESPONSE['data'][0]['entities']['annotations']:\r\n",
                "            i.pop(\"start\")\r\n",
                "            i.pop(\"end\")\r\n",
                "            i.pop(\"probability\")\r\n",
                "            input_dict['nea'].append(i)\r\n",
                "    if 'context_annotations' in list(auth_response_RESPONSE['data'][0].keys()):\r\n",
                "        for i in auth_response_RESPONSE['data'][0]['context_annotations']:\r\n",
                "            input_dict['tweet_domain'].append(i['domain'])\r\n",
                "            input_dict['tweet_entity'].append(i['entity'])\r\n",
                "    if 'mentions' in list(auth_response_RESPONSE['data'][0]['entities'].keys()):\r\n",
                "        for i in auth_response_RESPONSE['data'][0]['entities']['mentions']:\r\n",
                "            i.pop(\"start\")\r\n",
                "            i.pop(\"end\")\r\n",
                "            input_dict['tweet_mentions'].append(i)\r\n",
                "    if 'conversation_id' in list(auth_response_RESPONSE['data'][0].keys()):\r\n",
                "        input_dict['conversation_id'] = auth_response_RESPONSE['data'][0]['conversation_id']\r\n",
                "    tweet_query = f\"INSERT INTO twitter_tweet VALUES ({input_dict['tweet_id']},{input_dict['conversation_id']},'{input_dict['text']}', {input_dict['public_metrics']['like_count']}, {input_dict['public_metrics']['retweet_count']}, {input_dict['public_metrics']['reply_count']}, {input_dict['public_metrics']['quote_count']},'{input_dict['created_at']}')\"\r\n",
                "    user_tweet_join_query = f\"INSERT INTO twitter_tweet_to_user VALUES ({input_dict['tweet_id']},{input_dict['author_id']})\"\r\n",
                "    for i in input_dict['tweet_entity']:\r\n",
                "        conText_e = f\"INSERT INTO twitter_tweet_conText_entity ({input_dict['tweet_id']}, {i['id']})\"\r\n",
                "        conDef = f\"INSERT INTO twitter_tweet_conText_def VALUES ({i['id']}, '{i['name']}', '{i['description']}', 'entity') ON CONFLICT(id,type) DO NOTHING\"\r\n",
                "    for i in input_dict['tweet_domain']:\r\n",
                "        conText_e = f\"INSERT INTO twitter_tweet_conText_domain ({input_dict['tweet_id']}, {i['id']})\"\r\n",
                "        conDef = f\"INSERT INTO twitter_tweet_conText_def VALUES ({i['id']}, '{i['name']}', '{i['description']}', 'domain') ON CONFLICT(id,type) DO NOTHING\"\r\n",
                "    "
            ],
            "metadata": {
                "language": "python",
                "azdata_cell_guid": "6ad954bd-a053-4b7f-9bde-eddfc657da2f",
                "tags": []
            },
            "outputs": [],
            "execution_count": 23
        },
        {
            "cell_type": "code",
            "source": [
                ""
            ],
            "metadata": {
                "language": "python",
                "azdata_cell_guid": "11f5594a-b641-41cc-b796-c89ca336eeed",
                "tags": []
            },
            "outputs": [],
            "execution_count": 31
        }
    ]
}