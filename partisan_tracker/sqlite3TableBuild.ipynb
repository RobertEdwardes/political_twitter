{
    "metadata": {
        "kernelspec": {
            "name": "python3",
            "display_name": "Python 3",
            "language": "python"
        },
        "language_info": {
            "name": "python",
            "version": "3.8.10",
            "mimetype": "text/x-python",
            "codemirror_mode": {
                "name": "ipython",
                "version": 3
            },
            "pygments_lexer": "ipython3",
            "nbconvert_exporter": "python",
            "file_extension": ".py"
        }
    },
    "nbformat_minor": 2,
    "nbformat": 4,
    "cells": [
        {
            "cell_type": "code",
            "source": [
                "import datetime\r\n",
                "import sqlite3 as sql \r\n",
                "import requests\r\n",
                "from bs4 import BeautifulSoup\r\n",
                "import pandas as pd\r\n",
                "from config_new import config"
            ],
            "metadata": {
                "azdata_cell_guid": "5a2e62d9-454c-42ef-a389-af245a982beb",
                "language": "python",
                "tags": []
            },
            "outputs": [],
            "execution_count": 1
        },
        {
            "cell_type": "code",
            "source": [
                "census_centriod_base = r'https://www2.census.gov/geo/docs/reference/cenpop2020/county/CenPop2020_Mean_CO.txt'\r\n",
                "df = pd.read_csv(census_centriod_base)\r\n",
                "con = sql.connect(config['database'])\r\n",
                "df.to_sql('Count_Pop_Centroid', con, if_exists='replace')\r\n",
                "cur = con.cursor()\r\n",
                "cur.execute(\"\"\"CREATE VIEW IF NOT EXISTS Cens_State_Most\r\n",
                "AS\r\n",
                "SELECT STNAME, COUNAME, MAX(POPULATION) AS POPULATION, LATITUDE, LONGITUDE\r\n",
                "FROM Count_Pop_Centroid\r\n",
                "GROUP BY\r\n",
                "\tSTNAME\"\"\")\r\n",
                "con.commit()\r\n",
                "con.close()"
            ],
            "metadata": {
                "language": "python",
                "azdata_cell_guid": "792b36b5-dd19-4456-afc7-64edfcc3c12e"
            },
            "outputs": [],
            "execution_count": 2
        }
    ]
}