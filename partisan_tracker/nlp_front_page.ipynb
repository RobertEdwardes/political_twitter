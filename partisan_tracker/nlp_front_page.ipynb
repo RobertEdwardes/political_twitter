{
    "metadata": {
        "kernelspec": {
            "name": "python3",
            "display_name": "Python 3 (ipykernel)",
            "language": "python"
        },
        "language_info": {
            "name": "python",
            "version": "3.8.10",
            "mimetype": "text/x-python",
            "codemirror_mode": {
                "name": "ipython",
                "version": 3
            },
            "pygments_lexer": "ipython3",
            "nbconvert_exporter": "python",
            "file_extension": ".py"
        }
    },
    "nbformat_minor": 2,
    "nbformat": 4,
    "cells": [
        {
            "cell_type": "code",
            "source": [
                "import spacy\r\n",
                "import nltk\r\n",
                "import pandas as pd\r\n",
                "import sqlite3 as sql\r\n",
                "from pytrends.request import TrendReq\r\n",
                "from nlp_helper import *\r\n",
                "from config_new import config\r\n",
                "import json\r\n",
                "nlp = spacy.load('en_core_web_trf')"
            ],
            "metadata": {
                "azdata_cell_guid": "13e3c449-5772-497e-844b-1c1751bc3f94",
                "language": "python"
            },
            "outputs": [
                {
                    "output_type": "stream",
                    "name": "stderr",
                    "text": "[nltk_data] Downloading package punkt to\n[nltk_data]     C:\\Users\\vaugh\\AppData\\Roaming\\nltk_data...\n[nltk_data]   Package punkt is already up-to-date!\n[nltk_data] Downloading package stopwords to\n[nltk_data]     C:\\Users\\vaugh\\AppData\\Roaming\\nltk_data...\n[nltk_data]   Package stopwords is already up-to-date!\n[nltk_data] Downloading package averaged_perceptron_tagger to\n[nltk_data]     C:\\Users\\vaugh\\AppData\\Roaming\\nltk_data...\n[nltk_data]   Package averaged_perceptron_tagger is already up-to-\n[nltk_data]       date!\n[nltk_data] Downloading package vader_lexicon to\n[nltk_data]     C:\\Users\\vaugh\\AppData\\Roaming\\nltk_data...\n[nltk_data]   Package vader_lexicon is already up-to-date!\n[nltk_data] Downloading package wordnet to\n[nltk_data]     C:\\Users\\vaugh\\AppData\\Roaming\\nltk_data...\n[nltk_data]   Package wordnet is already up-to-date!\n[nltk_data] Downloading package omw-1.4 to\n[nltk_data]     C:\\Users\\vaugh\\AppData\\Roaming\\nltk_data...\n[nltk_data]   Package omw-1.4 is already up-to-date!\n"
                },
                {
                    "output_type": "execute_result",
                    "execution_count": 8,
                    "data": {
                        "text/plain": "True"
                    },
                    "metadata": {}
                }
            ],
            "execution_count": 8
        },
        {
            "cell_type": "markdown",
            "source": [
                "#### SQL connections"
            ],
            "metadata": {
                "language": "python",
                "azdata_cell_guid": "51e3b6e8-6208-4f11-9669-0bb56c3b6508"
            },
            "attachments": {}
        },
        {
            "cell_type": "code",
            "source": [
                "con = sql.connect(config['database'])\r\n",
                "cur = con.cursor()"
            ],
            "metadata": {
                "language": "python",
                "azdata_cell_guid": "106ea13a-5b8a-47b0-b619-8fb44fc551d2",
                "tags": []
            },
            "outputs": [],
            "execution_count": 3
        },
        {
            "cell_type": "markdown",
            "source": [
                "## NLP Vadar and Bags"
            ],
            "metadata": {
                "azdata_cell_guid": "0d155cc5-4095-4701-a1ca-da3cb99c642f"
            },
            "attachments": {}
        },
        {
            "cell_type": "code",
            "source": [
                "id_list = pd.read_sql_query('SELECT * FROM Front_Page_text ',con)\r\n",
                "id_list = id_list['id'].tolist()\r\n",
                "for idnum in id_list:\r\n",
                "    try:\r\n",
                "        row = pd.read_sql_query(f\"SELECT * FROM Front_Page_text WHERE id = {idnum} \",con)\r\n",
                "        idx = row['id'].values[0]\r\n",
                "        text = row['front_page_text'].values[0]\r\n",
                "        p_tag_block = remove_stop_words(text)\r\n",
                "        p_tag_block = processed_feature(' '.join(p_tag_block))\r\n",
                "        p_vocab = create_bag_of_words(p_tag_block)\r\n",
                "        p_Tfidf = Tfidf([p_tag_block])\r\n",
                "        p_phrases = create_bag_of_phrases([p_tag_block], n_gram_range=(2,4))\r\n",
                "        dict_Tfidf = {key:value for key, value in p_Tfidf}\r\n",
                "        dict_Tfidf = dict(sorted(dict_Tfidf.items(),key = lambda x:x[1], reverse = True))\r\n",
                "        avg = sum(dict_Tfidf.values())/len(dict_Tfidf.keys())\r\n",
                "        dict_Tfidf_insert = {}\r\n",
                "        for key, value in dict_Tfidf.items():\r\n",
                "            if value > avg:\r\n",
                "                dict_Tfidf_insert[key] =value \r\n",
                "        dict_vocab_insert = dict(nltk.FreqDist(p_vocab).most_common(len(dict_Tfidf_insert.keys())))\r\n",
                "        vadar_out = vadar(p_tag_block)\r\n",
                "        cur.execute(f\"\"\"INSERT INTO Front_Page_vader (front_page_text_id , sediment_neg , sediment_neu , sediment_pos , sediment_comp ) VALUES ({idx},{vadar_out['pos']},{vadar_out['neu']},{vadar_out['neg']},{vadar_out['comp']})\"\"\")\r\n",
                "        cur.execute(f\"\"\"INSERT INTO Front_Page_bag (front_page_text_id , bag_a_words_json , Tfidf_json, Phrase_List ) VALUES ({idx},'{json.dumps(dict_vocab_insert)}','{json.dumps(dict_Tfidf_insert)}','{','.join(p_phrases)}')\"\"\")\r\n",
                "        con.commit()\r\n",
                "    except Exception as e:\r\n",
                "        continue"
            ],
            "metadata": {
                "language": "python",
                "azdata_cell_guid": "c897dad6-d6a2-46ca-89ad-4cbed6429fa2",
                "tags": []
            },
            "outputs": [],
            "execution_count": null
        },
        {
            "cell_type": "markdown",
            "source": [
                "## NLP Named Enity Recongiztion "
            ],
            "metadata": {
                "azdata_cell_guid": "6a3c5a67-846b-4e4d-9892-f28925c53934"
            },
            "attachments": {}
        },
        {
            "cell_type": "code",
            "source": [
                "id_list = pd.read_sql_query(\"SELECT id FROM Front_Page_text WHERE id NOT IN (SELECT front_page_text_id FROM Front_Page_nea) \",con)\r\n",
                "id_list = id_list['id'].tolist()\r\n",
                "for idnum in id_list:\r\n",
                "    try:\r\n",
                "        row = pd.read_sql_query(f\"SELECT * FROM Front_Page_text WHERE id = {idnum} \",con)\r\n",
                "        text = nlp(row['front_page_text'].values[0])\r\n",
                "        idx = row['id'].values[0]\r\n",
                "        for ent in text.ents:\r\n",
                "            cur.execute(f\"\"\"INSERT INTO Front_Page_nea VALUES ({idx}, '{ent.text}', '{ent.start_char}', '{ent.end_char}', '{ent.label_}')\"\"\")\r\n",
                "            con.commit()\r\n",
                "    except Exception as e:\r\n",
                "        continue"
            ],
            "metadata": {
                "azdata_cell_guid": "a1f00dec-8a4d-4a17-8647-97ab37c994a3",
                "language": "python",
                "tags": []
            },
            "outputs": [],
            "execution_count": null
        },
        {
            "cell_type": "markdown",
            "source": [
                "#### SQL Connection"
            ],
            "metadata": {
                "language": "python",
                "azdata_cell_guid": "d72ddf47-e5e8-4832-a77f-5d9142df837c"
            },
            "attachments": {}
        },
        {
            "cell_type": "code",
            "source": [
                "con.close()"
            ],
            "metadata": {
                "language": "python",
                "azdata_cell_guid": "2a046dcd-a5e1-42de-9b2e-6d707dc41a4e"
            },
            "outputs": [],
            "execution_count": null
        }
    ]
}