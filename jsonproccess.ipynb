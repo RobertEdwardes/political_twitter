{
    "metadata": {
        "kernelspec": {
            "name": "python3",
            "display_name": "Python 3 (ipykernel)",
            "language": "python"
        },
        "language_info": {
            "name": "python",
            "version": "3.8.10",
            "mimetype": "text/x-python",
            "codemirror_mode": {
                "name": "ipython",
                "version": 3
            },
            "pygments_lexer": "ipython3",
            "nbconvert_exporter": "python",
            "file_extension": ".py"
        }
    },
    "nbformat_minor": 2,
    "nbformat": 4,
    "cells": [
        {
            "cell_type": "code",
            "source": [
                "import pandas as pd\r\n",
                "import requests\r\n",
                "import sqlite3 as sql\r\n",
                "from config_new import config\r\n",
                "conn = sql.connect(config['database'])\r\n",
                "conn.commit()\r\n",
                "df = pd.read_json('base_urls.json',orient='index')\r\n",
                "entries = df['entries'][0]\r\n",
                "for i in entries:\r\n",
                "    file_name = i['request']['url'].split('/')[-1].replace('.jpg','')\r\n",
                "    conn.execute(f\"\"\"INSERT INTO Front_Page_slug (slug) VALUES ('{file_name}')\"\"\")\r\n",
                "    conn.commit()\r\n",
                ""
            ],
            "metadata": {
                "azdata_cell_guid": "4136b6b2-af34-46d3-987d-b1e1b3c3a05c",
                "language": "python",
                "tags": []
            },
            "outputs": [],
            "execution_count": 21
        }
    ]
}