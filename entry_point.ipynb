{
    "metadata": {
        "kernelspec": {
            "name": "python3",
            "display_name": "Python 3 (ipykernel)",
            "language": "python"
        },
        "language_info": {
            "name": "python",
            "version": "3.8.10",
            "mimetype": "text/x-python",
            "codemirror_mode": {
                "name": "ipython",
                "version": 3
            },
            "pygments_lexer": "ipython3",
            "nbconvert_exporter": "python",
            "file_extension": ".py"
        }
    },
    "nbformat_minor": 2,
    "nbformat": 4,
    "cells": [
        {
            "cell_type": "code",
            "source": [
                "import sqlite3 as sql \r\n",
                "import tweepy\r\n",
                "import os\r\n",
                "from config import config\r\n",
                "from twitter_npl import *\r\n",
                "con = sql.connect(config['database'])\r\n",
                "client =  tweepy.Client(bearer_token=config['bearer'])\r\n",
                "if config['file_path']:\r\n",
                "    os.chdir(config['file_path'])"
            ],
            "metadata": {
                "azdata_cell_guid": "0bf1b7db-89af-46bd-afa3-50944ad068ce"
            },
            "outputs": [
                {
                    "name": "stderr",
                    "text": "[nltk_data] Downloading package punkt to\n[nltk_data]     C:\\Users\\vaugh\\AppData\\Roaming\\nltk_data...\n[nltk_data]   Package punkt is already up-to-date!\n[nltk_data] Downloading package stopwords to\n[nltk_data]     C:\\Users\\vaugh\\AppData\\Roaming\\nltk_data...\n[nltk_data]   Package stopwords is already up-to-date!\n[nltk_data] Downloading package averaged_perceptron_tagger to\n[nltk_data]     C:\\Users\\vaugh\\AppData\\Roaming\\nltk_data...\n[nltk_data]   Package averaged_perceptron_tagger is already up-to-\n[nltk_data]       date!\n[nltk_data] Downloading package vader_lexicon to\n[nltk_data]     C:\\Users\\vaugh\\AppData\\Roaming\\nltk_data...\n[nltk_data]   Package vader_lexicon is already up-to-date!\n[nltk_data] Downloading package wordnet to\n[nltk_data]     C:\\Users\\vaugh\\AppData\\Roaming\\nltk_data...\n[nltk_data]   Package wordnet is already up-to-date!\n[nltk_data] Downloading package omw-1.4 to\n[nltk_data]     C:\\Users\\vaugh\\AppData\\Roaming\\nltk_data...\n[nltk_data]   Package omw-1.4 is already up-to-date!\n",
                    "output_type": "stream"
                }
            ],
            "execution_count": 1
        },
        {
            "cell_type": "code",
            "source": [
                "db_init(con)"
            ],
            "metadata": {
                "azdata_cell_guid": "e8a13eb8-80e1-4ca3-a637-d9a1e1234759"
            },
            "outputs": [
                {
                    "traceback": [
                        "\u001b[1;31m---------------------------------------------------------------------------\u001b[0m",
                        "\u001b[1;31mOperationalError\u001b[0m                          Traceback (most recent call last)",
                        "Input \u001b[1;32mIn [7]\u001b[0m, in \u001b[0;36m<cell line: 1>\u001b[1;34m()\u001b[0m\n\u001b[1;32m----> 1\u001b[0m \u001b[43mdb_init\u001b[49m\u001b[43m(\u001b[49m\u001b[43mcon\u001b[49m\u001b[43m)\u001b[49m\n",
                        "File \u001b[1;32mc:\\Users\\vaugh\\Documents\\GitHub\\political_twitter\\twitter_npl.py:19\u001b[0m, in \u001b[0;36mdb_init\u001b[1;34m(con)\u001b[0m\n\u001b[0;32m     17\u001b[0m \u001b[38;5;28;01mdef\u001b[39;00m \u001b[38;5;21mdb_init\u001b[39m(con):\n\u001b[0;32m     18\u001b[0m     cur \u001b[38;5;241m=\u001b[39m con\u001b[38;5;241m.\u001b[39mcursor()\n\u001b[1;32m---> 19\u001b[0m     \u001b[43mcur\u001b[49m\u001b[38;5;241;43m.\u001b[39;49m\u001b[43mexecute\u001b[49m\u001b[43m(\u001b[49m\u001b[38;5;124;43m\"\"\"\u001b[39;49m\u001b[38;5;124;43mCREATE TABLE tweets (user_id INTEGER, tweet_id INTEGER, query_idx INTEGER, urls BLOB, text TEXT, users BLOB, retweet TEXT, rt_user TEXT, hash_tags text, pull_time TEXT)\u001b[39;49m\u001b[38;5;124;43m\"\"\"\u001b[39;49m\u001b[43m)\u001b[49m\n\u001b[0;32m     20\u001b[0m     cur\u001b[38;5;241m.\u001b[39mexecute(\u001b[38;5;124m\"\"\"\u001b[39m\u001b[38;5;124mCREATE TABLE queries (query_idx INTEGER PRIMARY KEY AUTOINCREMENT, query BLOB, First_ran TEXT, Last_ran TEXT)\u001b[39m\u001b[38;5;124m\"\"\"\u001b[39m)\n\u001b[0;32m     21\u001b[0m     cur\u001b[38;5;241m.\u001b[39mexecute(\u001b[38;5;124m\"\"\"\u001b[39m\u001b[38;5;124mCREATE TABLE users (user_id INTEGER PRIMARY KEY, name TEXT, username TEXT, most_similar INTEGER, capture_count INTEGER DEFAULT 1)\u001b[39m\u001b[38;5;124m\"\"\"\u001b[39m)\n",
                        "\u001b[1;31mOperationalError\u001b[0m: table tweets already exists"
                    ],
                    "ename": "OperationalError",
                    "evalue": "table tweets already exists",
                    "output_type": "error"
                }
            ],
            "execution_count": 7
        },
        {
            "cell_type": "code",
            "source": [
                "add_query('Media',con)"
            ],
            "metadata": {
                "azdata_cell_guid": "f7c64f89-d934-49fc-8125-42f8638287be"
            },
            "outputs": [],
            "execution_count": 7
        },
        {
            "cell_type": "code",
            "source": [
                "init_scrap(con, client)"
            ],
            "metadata": {
                "azdata_cell_guid": "2ec04288-1ec7-4035-9a8a-28af69a5fca7"
            },
            "outputs": [],
            "execution_count": 8
        },
        {
            "cell_type": "code",
            "source": [
                "setiment(con, inc_rt=False)"
            ],
            "metadata": {
                "azdata_cell_guid": "ad1a651b-93e3-41fe-acef-cc568cecfc78"
            },
            "outputs": [],
            "execution_count": 9
        },
        {
            "cell_type": "code",
            "source": [
                "con.close()"
            ],
            "metadata": {
                "azdata_cell_guid": "9d426061-71f2-4d81-a78a-c5f41547d5e1"
            },
            "outputs": [],
            "execution_count": 10
        }
    ]
}