{
    "metadata": {
        "kernelspec": {
            "name": "python3",
            "display_name": "Python 3 (ipykernel)",
            "language": "python"
        },
        "language_info": {
            "name": "python",
            "version": "3.8.10",
            "mimetype": "text/x-python",
            "codemirror_mode": {
                "name": "ipython",
                "version": 3
            },
            "pygments_lexer": "ipython3",
            "nbconvert_exporter": "python",
            "file_extension": ".py"
        }
    },
    "nbformat_minor": 2,
    "nbformat": 4,
    "cells": [
        {
            "cell_type": "code",
            "source": [
                "import datetime\r\n",
                "import sqlite3 as sql \r\n",
                "import tweepy\r\n",
                "import re\r\n",
                "import pandas as pd"
            ],
            "metadata": {
                "azdata_cell_guid": "d6fe2aad-edc3-4685-82bb-db2f2251be7d",
                "tags": []
            },
            "outputs": [],
            "execution_count": 1
        },
        {
            "cell_type": "code",
            "source": [
                "def add_query(twitter_query, con):\r\n",
                "    cur = con.cursor()\r\n",
                "    time = datetime.datetime.now().strftime(\"%Y-%m-%dT%H:%M:%SZ\")\r\n",
                "    cur.execute(f\"\"\"\r\n",
                "        INSERT INTO queries (query, First_ran) VALUES ('{twitter_query}','{time}')\r\n",
                "    \"\"\")\r\n",
                "    con.commit()\r\n",
                "    con.close()\r\n",
                "\r\n",
                "\r\n",
                "    \r\n",
                "def get_queried_tweets(con, client, querydf_row, run_time):\r\n",
                "    cur = con.cursor()\r\n",
                "    query_idx = querydf_row['query_idx']\r\n",
                "    query = querydf_row['query']\r\n",
                "    if querydf_row['Last_ran'] is None:\r\n",
                "        start_time = querydf_row['First_ran']\r\n",
                "    else:\r\n",
                "        start_time = querydf_row['Last_ran']\r\n",
                "    res = client.search_recent_tweets(query=query, start_time=start_time ,expansions=[\"author_id\"] )\r\n",
                "    cur.execute(f\"\"\"UPDATE queries\r\n",
                "                    SET Last_ran = '{run_time}'\r\n",
                "                    WHERE query_idx = {query_idx}\"\"\")\r\n",
                "    con.commit()\r\n",
                "    \r\n",
                "    for i in range(len(res.includes['users'])):\r\n",
                "        try:\r\n",
                "            user_id = res.includes['users'][i].id\r\n",
                "            public_name = res.includes['users'][i].name\r\n",
                "            user_name = res.includes['users'][i].username\r\n",
                "            tweet_id = res.data[i].id\r\n",
                "            tweet_text = res.data[i].text\r\n",
                "            tweet_text =tweet_text.replace('\\n', ' ').replace('\"',\"'\")\r\n",
                "            retweet = False\r\n",
                "            rt_user = None\r\n",
                "            retweet_str = re.findall(r\"RT @\\S+\", tweet_text)\r\n",
                "            if retweet_str:\r\n",
                "                retweet = True \r\n",
                "                rt_user = re.findall(r\"@\\S+\",retweet_str[0].replace(\":\",\"\"))\r\n",
                "            users = re.findall(r\"@\\S+\", tweet_text)\r\n",
                "            if retweet_str:\r\n",
                "                rtu = retweet_str[0].replace('RT ','')\r\n",
                "                users.remove(rtu)\r\n",
                "            urls = re.findall(r'https?:\\S+', tweet_text)\r\n",
                "            hash_tags = re.findall(r'#\\S+', tweet_text)\r\n",
                "            sql_query_text = f'''INSERT INTO tweets (user_id, tweet_id, query_idx, urls, text, users, retweet, rt_user, hash_tags, pull_time) \r\n",
                "            VALUES ({user_id}, {tweet_id}, {query_idx}, \"{urls}\", \"{tweet_text}\", \"{users}\", \"{retweet}\", \"{rt_user}\", \"{hash_tags}\", \"{run_time}\")'''\r\n",
                "            sql_query_user = f'''INSERT INTO users (user_id , name , username)\r\n",
                "            VALUES (\"{user_id}\",\"{public_name}\",\"{user_name}\")\r\n",
                "            ON CONFLICT(user_id) DO UPDATE SET capture_count=capture_count+1\r\n",
                "            '''\r\n",
                "        \r\n",
                "            cur.execute(sql_query_user)\r\n",
                "            cur.execute(sql_query_text)\r\n",
                "            con.commit()\r\n",
                "        except Exception as e:\r\n",
                "            print(e)\r\n",
                "\r\n",
                "    \r\n",
                "\r\n",
                "def init_scrap(con, client, query=None):\r\n",
                "    output_date = datetime.datetime.now().strftime(\"%Y-%m-%dT%H:%M:%SZ\")\r\n",
                "    if query:\r\n",
                "        df = pd.read_sql_query(f\"SELECT * FROM queries WHERE query_idx = {query}\",con)   \r\n",
                "    else:\r\n",
                "        df = pd.read_sql_query(\"SELECT * FROM queries\",con)   \r\n",
                "    for idx, row in df.iterrows():\r\n",
                "        get_queried_tweets(con, client, row, output_date)\r\n",
                "    con.close()"
            ],
            "metadata": {
                "azdata_cell_guid": "79a7cd81-6cd3-413f-a328-547b15c8979d",
                "tags": []
            },
            "outputs": [],
            "execution_count": 1
        }
    ]
}