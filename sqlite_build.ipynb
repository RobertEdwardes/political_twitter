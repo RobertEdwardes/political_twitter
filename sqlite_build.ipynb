{
    "metadata": {
        "kernelspec": {
            "name": "python3",
            "display_name": "Python 3 (ipykernel)",
            "language": "python"
        },
        "language_info": {
            "name": "python",
            "version": "3.8.10",
            "mimetype": "text/x-python",
            "codemirror_mode": {
                "name": "ipython",
                "version": 3
            },
            "pygments_lexer": "ipython3",
            "nbconvert_exporter": "python",
            "file_extension": ".py"
        }
    },
    "nbformat_minor": 2,
    "nbformat": 4,
    "cells": [
        {
            "cell_type": "code",
            "source": [
                "import sqlite3 as sql "
            ],
            "metadata": {
                "azdata_cell_guid": "4ff05029-d167-43e0-b65b-d9acd47f4685",
                "tags": []
            },
            "outputs": [],
            "execution_count": 2
        },
        {
            "cell_type": "code",
            "source": [
                "def db_init(con):\r\n",
                "    cur = con.cursor()\r\n",
                "    cur.execute(\"\"\"CREATE TABLE tweets (user_id INTEGER, tweet_id INTEGER, query_idx INTEGER, urls BLOB, text TEXT, users BLOB, retweet TEXT, rt_user TEXT, hash_tags text, pull_time TEXT)\"\"\")\r\n",
                "    cur.execute(\"\"\"CREATE TABLE queries (query_idx INTEGER PRIMARY KEY AUTOINCREMENT, query BLOB, First_ran TEXT, Last_ran TEXT)\"\"\")\r\n",
                "    cur.execute(\"\"\"CREATE TABLE users (user_id INTEGER PRIMARY KEY, name TEXT, username TEXT, most_similar INTEGER, capture_count INTEGER DEFAULT 1)\"\"\")\r\n",
                "    cur.execute(\"\"\"CREATE TABLE tweet_setiment (tweet_id INTEGER , tokens BLOB, setiment_neg REAL, setiment_neu REAL, setiment_pos REAL, setiment_comp REAL)\"\"\")\r\n",
                "    cur.execute(\"\"\"CREATE TABLE query_setiment (query_idx INTEGER, pull_time TEXT, tokens BLOB, setiment_neg REAL, setiment_neu REAL, setiment_pos REAL, setiment_comp REAL, average_similarity REAL, rt_included TEXT)\"\"\")\r\n",
                "    con.commit()\r\n",
                "    con.close()"
            ],
            "metadata": {
                "azdata_cell_guid": "50fa6691-5c63-42aa-aa40-7c71b9fcabd3"
            },
            "outputs": [],
            "execution_count": 3
        }
    ]
}